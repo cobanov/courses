{
 "cells": [
  {
   "cell_type": "markdown",
   "metadata": {},
   "source": [
    "# Sci-kit Learn Pipeline Rehberi"
   ]
  },
  {
   "cell_type": "markdown",
   "metadata": {},
   "source": [
    "Pipeline kavramı projelerinizde kullanabileceğiniz en verimli ve kullanışlı kavramlardır. Genellikle bir proje bitirdiğinizde ve canlıya almak istediğinizde kullanabilirsiniz, tabi ayrıca tüm prosesi pipeline'a alarak,  farklı zamanlarda aynı tür veriye preprocess kısmında yapabileceğiniz hataları da ortadan kaldırmış olursunuz. Ayrıca GridSearch yaparken pipeline'ı kullanmanız aşırı derecede önerilir.\n",
    "\n",
    "Yapılan iş en genel tabirle işlemlerinizi bir zincir gibi çalıştırmaktır. Özellik seçimi, normalleştirme ve sınıflandırma gibi verilerin işlenmesinde genellikle sabit bir dizi adım olduğu için bu yararlıdır. "
   ]
  },
  {
   "cell_type": "markdown",
   "metadata": {},
   "source": [
    "### Pipeline Nasıl Oluşturulur"
   ]
  },
  {
   "cell_type": "markdown",
   "metadata": {},
   "source": [
    "Genel olarak pipeline oluşturmak için 2 yöntem vardır. Bunlardan birincisi `Pipeline` ve ikincisi `make_pipeline` görece olarak ikinci seçeneği seçmek daha basit ve hızlı bir yöntemdir. İsimlendirmeler otomatik olarak yapılır"
   ]
  },
  {
   "cell_type": "code",
   "execution_count": 15,
   "metadata": {},
   "outputs": [],
   "source": [
    "from sklearn.pipeline import make_pipeline\n",
    "from sklearn.pipeline import Pipeline\n",
    "from sklearn.tree import DecisionTreeClassifier\n",
    "\n",
    "pipe = Pipeline([('s_scaler', StandardScaler()), ('clf', DecisionTreeClassifier())])     # 1. Seçenek\n",
    "pipe2 = make_pipeline(StandardScaler(), DecisionTreeClassifier())                        # 2. Seçenecek"
   ]
  },
  {
   "cell_type": "markdown",
   "metadata": {},
   "source": [
    "### Basit layout"
   ]
  },
  {
   "cell_type": "code",
   "execution_count": 43,
   "metadata": {},
   "outputs": [
    {
     "name": "stdout",
     "output_type": "stream",
     "text": [
      "Pipeline(memory=None,\n",
      "         steps=[('standardscaler',\n",
      "                 StandardScaler(copy=True, with_mean=True, with_std=True)),\n",
      "                ('decisiontreeclassifier',\n",
      "                 DecisionTreeClassifier(ccp_alpha=0.0, class_weight=None,\n",
      "                                        criterion='gini', max_depth=None,\n",
      "                                        max_features=None, max_leaf_nodes=None,\n",
      "                                        min_impurity_decrease=0.0,\n",
      "                                        min_impurity_split=None,\n",
      "                                        min_samples_leaf=1, min_samples_split=2,\n",
      "                                        min_weight_fraction_leaf=0.0,\n",
      "                                        presort='deprecated', random_state=0,\n",
      "                                        splitter='best'))],\n",
      "         verbose=False)\n",
      " \n",
      "Accuracy : 0.9736842105263158\n"
     ]
    }
   ],
   "source": [
    "from sklearn.pipeline import make_pipeline\n",
    "from sklearn.datasets import load_iris\n",
    "from sklearn.model_selection import train_test_split\n",
    "from sklearn.metrics import accuracy_score\n",
    "\n",
    "pipe_example  = make_pipeline(StandardScaler(), DecisionTreeClassifier(random_state=0))\n",
    "print(pipe_example)\n",
    "\n",
    "X, y = load_iris(return_X_y=True)\n",
    "X_train, X_test, y_train, y_test = train_test_split(X, y, random_state=0)\n",
    "\n",
    "pipe_example.fit(X_train, y_train)\n",
    "\n",
    "print(f\" \\nAccuracy : {accuracy_score(pipe.predict(X_test), y_test)}\")"
   ]
  },
  {
   "cell_type": "markdown",
   "metadata": {},
   "source": [
    "### Parametreler"
   ]
  },
  {
   "cell_type": "markdown",
   "metadata": {},
   "source": [
    "`DecisionTreeClassifier`'ın `min_sample_split` argümanını, pipe içerisinde verdiğimiz ismin yanına `__` ve parametrenin ismini girerek, bir sözlük olarak verebiliriz.\n",
    "\n",
    "_GridSearchCV'ye estimator değil pipe'ı verdiğimize dikkat edin!_"
   ]
  },
  {
   "cell_type": "code",
   "execution_count": 37,
   "metadata": {},
   "outputs": [],
   "source": [
    "from sklearn.model_selection import GridSearchCV\n",
    "\n",
    "param_grid = dict(decisiontreeclassifier__min_samples_split=[2, 5, 10])\n",
    "grid_search = GridSearchCV(pipe_example, param_grid=param_grid)"
   ]
  },
  {
   "cell_type": "code",
   "execution_count": 39,
   "metadata": {},
   "outputs": [
    {
     "data": {
      "text/plain": [
       "GridSearchCV(cv=None, error_score=nan,\n",
       "             estimator=Pipeline(memory=None,\n",
       "                                steps=[('standardscaler',\n",
       "                                        StandardScaler(copy=True,\n",
       "                                                       with_mean=True,\n",
       "                                                       with_std=True)),\n",
       "                                       ('decisiontreeclassifier',\n",
       "                                        DecisionTreeClassifier(ccp_alpha=0.0,\n",
       "                                                               class_weight=None,\n",
       "                                                               criterion='gini',\n",
       "                                                               max_depth=None,\n",
       "                                                               max_features=None,\n",
       "                                                               max_leaf_nodes=None,\n",
       "                                                               min_impurity_decrease=0.0,\n",
       "                                                               min_impurity_split=None,\n",
       "                                                               min_samples_leaf=1,\n",
       "                                                               min_samples_split=2,\n",
       "                                                               min_weight_fraction_leaf=0.0,\n",
       "                                                               presort='deprecated',\n",
       "                                                               random_state=0,\n",
       "                                                               splitter='best'))],\n",
       "                                verbose=False),\n",
       "             iid='deprecated', n_jobs=None,\n",
       "             param_grid={'decisiontreeclassifier__min_samples_split': [2, 5,\n",
       "                                                                       10]},\n",
       "             pre_dispatch='2*n_jobs', refit=True, return_train_score=False,\n",
       "             scoring=None, verbose=0)"
      ]
     },
     "execution_count": 39,
     "metadata": {},
     "output_type": "execute_result"
    }
   ],
   "source": [
    "grid_search.fit(X_train, y_train)"
   ]
  },
  {
   "cell_type": "code",
   "execution_count": 40,
   "metadata": {},
   "outputs": [
    {
     "data": {
      "text/plain": [
       "{'decisiontreeclassifier__min_samples_split': 5}"
      ]
     },
     "execution_count": 40,
     "metadata": {},
     "output_type": "execute_result"
    }
   ],
   "source": [
    "grid_search.best_params_"
   ]
  },
  {
   "cell_type": "code",
   "execution_count": 45,
   "metadata": {},
   "outputs": [
    {
     "name": "stdout",
     "output_type": "stream",
     "text": [
      " \n",
      "Accuracy : 0.9736842105263158\n"
     ]
    }
   ],
   "source": [
    "preds_cv = grid_search.predict(X_test)\n",
    "print(f\" \\nAccuracy : {accuracy_score(preds_cv, y_test)}\")\n"
   ]
  }
 ],
 "metadata": {
  "kernelspec": {
   "display_name": "Python 3",
   "language": "python",
   "name": "python3"
  },
  "language_info": {
   "codemirror_mode": {
    "name": "ipython",
    "version": 3
   },
   "file_extension": ".py",
   "mimetype": "text/x-python",
   "name": "python",
   "nbconvert_exporter": "python",
   "pygments_lexer": "ipython3",
   "version": "3.8.1"
  }
 },
 "nbformat": 4,
 "nbformat_minor": 4
}
