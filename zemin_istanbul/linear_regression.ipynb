{
 "cells": [
  {
   "cell_type": "markdown",
   "metadata": {
    "colab_type": "text",
    "id": "PIBzTWnCk94D"
   },
   "source": [
    "                                    All rights reserved © Global AI Hub 2020 \n",
    "<img src=\"global.jpeg\" width=400/ align=\"center\">\n"
   ]
  },
  {
   "cell_type": "markdown",
   "metadata": {
    "colab_type": "text",
    "id": "xAFYL8FOC3EX"
   },
   "source": [
    "# What is Regression?"
   ]
  },
  {
   "cell_type": "markdown",
   "metadata": {
    "colab_type": "text",
    "id": "ObZajM_LDfze"
   },
   "source": [
    "Regression analysis is one of the most important fields in statistics and machine learning. There are many regression methods available. Linear regression is one of them."
   ]
  },
  {
   "cell_type": "markdown",
   "metadata": {
    "colab_type": "text",
    "id": "tp0RCvw-D0jq"
   },
   "source": [
    "Regression searches for relationships among variables. For example, you can observe several employees of some company and try to understand how their salaries depend on the features, such as experience, level of education, role, city they work in, and so on."
   ]
  },
  {
   "cell_type": "markdown",
   "metadata": {
    "colab_type": "text",
    "id": "t7TUcDz4HyB4"
   },
   "source": [
    "# Linear Regression"
   ]
  },
  {
   "cell_type": "markdown",
   "metadata": {
    "colab_type": "text",
    "id": "pcJ2U0sUIAzn"
   },
   "source": [
    "Linear regression is probably one of the most important and widely used regression techniques. It’s among the simplest regression methods. One of its main advantages is the ease of interpreting results."
   ]
  },
  {
   "cell_type": "markdown",
   "metadata": {
    "colab_type": "text",
    "id": "Fh3LdXkTI2Ns"
   },
   "source": [
    "When implementing linear regression of some dependent variable 𝑦 on the set of independent variables 𝐱 = (𝑥₁, …, 𝑥ᵣ), where 𝑟 is the number of predictors, you assume a linear relationship between 𝑦 and 𝐱: 𝑦 = 𝛽₀ + 𝛽₁𝑥₁ + ⋯ + 𝛽ᵣ𝑥ᵣ + 𝜀. This equation is the regression equation. 𝛽₀, 𝛽₁, …, 𝛽ᵣ are the regression coefficients, and 𝜀 is the random error."
   ]
  },
  {
   "cell_type": "markdown",
   "metadata": {
    "colab_type": "text",
    "id": "gBea82xsJZuh"
   },
   "source": [
    "## Simple Linear Regression"
   ]
  },
  {
   "cell_type": "markdown",
   "metadata": {
    "colab_type": "text",
    "id": "CDXdTosaJfFJ"
   },
   "source": [
    "Simple or single-variate linear regression is the simplest case of linear regression with a single independent variable, 𝐱 = 𝑥."
   ]
  },
  {
   "cell_type": "markdown",
   "metadata": {
    "colab_type": "text",
    "id": "HJMakg8FJ0oi"
   },
   "source": [
    "![image.png](data:image/png;base64,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)"
   ]
  },
  {
   "cell_type": "markdown",
   "metadata": {
    "colab_type": "text",
    "id": "DesNbbSCK7iA"
   },
   "source": [
    "The estimated regression function (red line) has the equation 𝑓(𝑥) = 𝑏₀ + 𝑏₁𝑥. Your goal is to calculate the optimal values of the predicted weights 𝑏₀ and 𝑏₁ that minimize the sum of squared residuals (SSR) and determine the estimated regression function."
   ]
  },
  {
   "cell_type": "markdown",
   "metadata": {
    "colab_type": "text",
    "id": "cBlpRHffLQTp"
   },
   "source": [
    "## Multiple Linear Regression"
   ]
  },
  {
   "cell_type": "markdown",
   "metadata": {
    "colab_type": "text",
    "id": "JTXLFFmILXvG"
   },
   "source": [
    "Multiple or multivariate linear regression is a case of linear regression with two or more independent variables.\n",
    "\n",
    "If there are just two independent variables, the estimated regression function is 𝑓(𝑥₁, 𝑥₂) = 𝑏₀ + 𝑏₁𝑥₁ + 𝑏₂𝑥₂. It represents a regression plane in a three-dimensional space. The goal of regression is to determine the values of the weights 𝑏₀, 𝑏₁, and 𝑏₂ such that this plane is as close as possible to the actual responses and yield the minimal SSR."
   ]
  },
  {
   "cell_type": "markdown",
   "metadata": {
    "colab_type": "text",
    "id": "nM-uW1kShW0b"
   },
   "source": [
    "## Polynomial Regression"
   ]
  },
  {
   "cell_type": "markdown",
   "metadata": {
    "colab_type": "text",
    "id": "SrKnG8HMhZE3"
   },
   "source": [
    "You can regard polynomial regression as a generalized case of linear regression. You assume the polynomial dependence between the output and inputs and, consequently, the polynomial estimated regression function.\n",
    "\n",
    "In other words, in addition to linear terms like 𝑏₁𝑥₁, your regression function 𝑓 can include non-linear terms such as 𝑏₂𝑥₁², 𝑏₃𝑥₁³, or even 𝑏₄𝑥₁𝑥₂, 𝑏₅𝑥₁²𝑥₂, and so on.\n",
    "\n",
    "\n",
    "The simplest example of polynomial regression has a single independent variable, and the estimated regression function is a polynomial of degree 2: 𝑓(𝑥) = 𝑏₀ + 𝑏₁𝑥 + 𝑏₂𝑥²."
   ]
  },
  {
   "cell_type": "markdown",
   "metadata": {
    "colab_type": "text",
    "id": "QrisOngVj_Gm"
   },
   "source": [
    "## Simple Linear Regression With scikit-learn"
   ]
  },
  {
   "cell_type": "markdown",
   "metadata": {
    "colab_type": "text",
    "id": "dwT8MuDxmi8v"
   },
   "source": [
    "### Import the Packages"
   ]
  },
  {
   "cell_type": "code",
   "execution_count": 111,
   "metadata": {
    "colab": {},
    "colab_type": "code",
    "id": "LQUftsJ6C0e1"
   },
   "outputs": [],
   "source": [
    "import numpy as np\n",
    "from sklearn.linear_model import LinearRegression"
   ]
  },
  {
   "cell_type": "markdown",
   "metadata": {
    "colab_type": "text",
    "id": "8FrcERYtmqOW"
   },
   "source": [
    "### Provide Data"
   ]
  },
  {
   "cell_type": "code",
   "execution_count": 208,
   "metadata": {
    "colab": {
     "base_uri": "https://localhost:8080/",
     "height": 141
    },
    "colab_type": "code",
    "executionInfo": {
     "elapsed": 946,
     "status": "ok",
     "timestamp": 1600455328617,
     "user": {
      "displayName": "Adem Tekin",
      "photoUrl": "https://lh3.googleusercontent.com/a-/AOh14Gjji3ec_q6_sWOPCSacyEQOavzHeGZCtJpnBwD9=s64",
      "userId": "01835850446278926637"
     },
     "user_tz": -180
    },
    "id": "FqECs48CC0Tg",
    "outputId": "8a823499-d4ad-4da9-c550-76783a1486d3"
   },
   "outputs": [],
   "source": [
    "from sklearn.datasets import make_regression\n",
    "X, y = make_regression(n_samples=100, n_features=1, noise=5)"
   ]
  },
  {
   "cell_type": "code",
   "execution_count": 209,
   "metadata": {},
   "outputs": [],
   "source": [
    "import matplotlib.pyplot as plt"
   ]
  },
  {
   "cell_type": "code",
   "execution_count": 210,
   "metadata": {},
   "outputs": [
    {
     "data": {
      "text/plain": [
       "<matplotlib.collections.PathCollection at 0x15436148>"
      ]
     },
     "execution_count": 210,
     "metadata": {},
     "output_type": "execute_result"
    },
    {
     "data": {
      "image/png": "[encoded data removed]",
      "text/plain": [
       "<Figure size 432x288 with 1 Axes>"
      ]
     },
     "metadata": {
      "needs_background": "light"
     },
     "output_type": "display_data"
    }
   ],
   "source": [
    "plt.scatter(X, y)"
   ]
  },
  {
   "cell_type": "markdown",
   "metadata": {
    "colab_type": "text",
    "id": "7lgOFL7xmw6I"
   },
   "source": [
    "### Create a model & fit"
   ]
  },
  {
   "cell_type": "code",
   "execution_count": 211,
   "metadata": {
    "colab": {},
    "colab_type": "code",
    "id": "c9pvWB2xC0HP"
   },
   "outputs": [],
   "source": [
    "model = LinearRegression()"
   ]
  },
  {
   "cell_type": "code",
   "execution_count": 212,
   "metadata": {
    "colab": {
     "base_uri": "https://localhost:8080/",
     "height": 34
    },
    "colab_type": "code",
    "executionInfo": {
     "elapsed": 907,
     "status": "ok",
     "timestamp": 1600455412483,
     "user": {
      "displayName": "Adem Tekin",
      "photoUrl": "https://lh3.googleusercontent.com/a-/AOh14Gjji3ec_q6_sWOPCSacyEQOavzHeGZCtJpnBwD9=s64",
      "userId": "01835850446278926637"
     },
     "user_tz": -180
    },
    "id": "Z6ZSZku6Cz7p",
    "outputId": "8eb7e5e0-3468-466b-d940-a3ac54703ce6"
   },
   "outputs": [
    {
     "data": {
      "text/plain": [
       "LinearRegression()"
      ]
     },
     "execution_count": 212,
     "metadata": {},
     "output_type": "execute_result"
    }
   ],
   "source": [
    "model.fit(X, y)"
   ]
  },
  {
   "cell_type": "markdown",
   "metadata": {
    "colab_type": "text",
    "id": "sooWWsmqm6RP"
   },
   "source": [
    "### Get Results"
   ]
  },
  {
   "cell_type": "code",
   "execution_count": 213,
   "metadata": {
    "colab": {
     "base_uri": "https://localhost:8080/",
     "height": 34
    },
    "colab_type": "code",
    "executionInfo": {
     "elapsed": 1004,
     "status": "ok",
     "timestamp": 1600455441876,
     "user": {
      "displayName": "Adem Tekin",
      "photoUrl": "https://lh3.googleusercontent.com/a-/AOh14Gjji3ec_q6_sWOPCSacyEQOavzHeGZCtJpnBwD9=s64",
      "userId": "01835850446278926637"
     },
     "user_tz": -180
    },
    "id": "mFxmTaseCzu_",
    "outputId": "ff14a536-3cf6-4608-f92c-a607bef255d3"
   },
   "outputs": [
    {
     "name": "stdout",
     "output_type": "stream",
     "text": [
      "coefficient of determination: 0.9943270566503162\n"
     ]
    }
   ],
   "source": [
    "r_sq = model.score(X, y)\n",
    "print('coefficient of determination:', r_sq)"
   ]
  },
  {
   "cell_type": "code",
   "execution_count": 214,
   "metadata": {
    "colab": {
     "base_uri": "https://localhost:8080/",
     "height": 52
    },
    "colab_type": "code",
    "executionInfo": {
     "elapsed": 882,
     "status": "ok",
     "timestamp": 1600455495680,
     "user": {
      "displayName": "Adem Tekin",
      "photoUrl": "https://lh3.googleusercontent.com/a-/AOh14Gjji3ec_q6_sWOPCSacyEQOavzHeGZCtJpnBwD9=s64",
      "userId": "01835850446278926637"
     },
     "user_tz": -180
    },
    "id": "obl0Qm53Czfx",
    "outputId": "f55ae184-bb4e-4869-8cf7-fe9c9ddf289b"
   },
   "outputs": [
    {
     "name": "stdout",
     "output_type": "stream",
     "text": [
      "intercept: -0.026436620877717587\n",
      "slope: [63.2569136]\n"
     ]
    }
   ],
   "source": [
    "print('intercept:', model.intercept_)\n",
    "print('slope:', model.coef_)\n"
   ]
  },
  {
   "cell_type": "markdown",
   "metadata": {
    "colab_type": "text",
    "id": "L3CUuxm0nBb3"
   },
   "source": [
    "### Predict"
   ]
  },
  {
   "cell_type": "code",
   "execution_count": 215,
   "metadata": {
    "colab": {
     "base_uri": "https://localhost:8080/",
     "height": 52
    },
    "colab_type": "code",
    "executionInfo": {
     "elapsed": 917,
     "status": "ok",
     "timestamp": 1600455553379,
     "user": {
      "displayName": "Adem Tekin",
      "photoUrl": "https://lh3.googleusercontent.com/a-/AOh14Gjji3ec_q6_sWOPCSacyEQOavzHeGZCtJpnBwD9=s64",
      "userId": "01835850446278926637"
     },
     "user_tz": -180
    },
    "id": "b8Jb11mTCzMV",
    "outputId": "e54c5f07-4136-49cb-e731-c8066fe192ea"
   },
   "outputs": [
    {
     "name": "stdout",
     "output_type": "stream",
     "text": [
      "predicted response:\n",
      "[  44.90596113  -45.59846056   -4.41930775   13.4144031   -39.75271155\n",
      "   53.2269709    16.2641063   -15.21128744   -2.19210101   -9.92814553\n",
      "   46.39092042   51.0830173    33.07969415  -10.20990948  -51.95359999\n",
      "   85.26191309  -89.6836974    -5.18414943    5.89688431  -24.606657\n",
      "  -88.70931278  -22.60666998  -46.56497212   38.80652031   13.23853086\n",
      "   58.55630107   -9.04311511  -14.34899714  -27.94941506  -62.06034564\n",
      "  -35.4776991    43.92395473   -6.08947022  -61.77064984   64.518901\n",
      "  112.76780967   30.55492884  -71.84216708   39.0255006   -73.75351178\n",
      "   11.31911921   52.97384416  -83.43545021  -42.86606163  -43.01883033\n",
      "   53.6277046   -28.14344964  -36.3306387    68.424612     14.68884591\n",
      "   70.70567804   -6.75522804  -30.16043508    3.84748415  -19.0620426\n",
      " -108.80773838  -66.80348921   55.03811736   40.69332491  -13.14217634\n",
      "  -80.55583317  -98.71395645   -5.63209057  -63.91716058 -179.51892374\n",
      "   31.22637478    4.50254281  -71.77812244  -16.23847382   70.94969519\n",
      "  -60.47604013   13.90776498  -13.77097162   80.77056089   -5.96750157\n",
      "  -29.10023529    1.91323192  -27.43373103  -15.5249879    15.82577495\n",
      " -113.45083799    9.11751283  -82.19746586  119.39538848  -46.58373208\n",
      "  -33.78217194   67.25509581  -87.27159521   13.75336982   -5.87880147\n",
      "   71.16348218  103.44367416   52.18578743  -49.39026196  -27.8514718\n",
      "   48.68530726   38.58361749  -19.13613487  136.7371865   -28.54457302]\n"
     ]
    }
   ],
   "source": [
    "X_test, _ = make_regression(n_samples=100, n_features=1, noise=20)\n",
    "y_pred = model.predict(X_test)\n",
    "print('predicted response:', y_pred, sep='\\n')"
   ]
  },
  {
   "cell_type": "code",
   "execution_count": 216,
   "metadata": {
    "scrolled": true
   },
   "outputs": [
    {
     "data": {
      "text/plain": [
       "<matplotlib.collections.PathCollection at 0x154b68b0>"
      ]
     },
     "execution_count": 216,
     "metadata": {},
     "output_type": "execute_result"
    },
    {
     "data": {
      "image/png": "[encoded data removed]",
      "text/plain": [
       "<Figure size 432x288 with 1 Axes>"
      ]
     },
     "metadata": {
      "needs_background": "light"
     },
     "output_type": "display_data"
    }
   ],
   "source": [
    "plt.scatter(X, y, color=\"red\")\n",
    "plt.scatter(X_test, y_pred)"
   ]
  },
  {
   "cell_type": "markdown",
   "metadata": {
    "colab_type": "text",
    "id": "icAi86X1nJLc"
   },
   "source": [
    "## Multiple Linear Regression With scikit-learn"
   ]
  },
  {
   "cell_type": "markdown",
   "metadata": {
    "colab_type": "text",
    "id": "H0xTkmm_nVJ9"
   },
   "source": [
    "### Provide Data"
   ]
  },
  {
   "cell_type": "code",
   "execution_count": 217,
   "metadata": {
    "colab": {
     "base_uri": "https://localhost:8080/",
     "height": 176
    },
    "colab_type": "code",
    "executionInfo": {
     "elapsed": 780,
     "status": "ok",
     "timestamp": 1600456172877,
     "user": {
      "displayName": "Adem Tekin",
      "photoUrl": "https://lh3.googleusercontent.com/a-/AOh14Gjji3ec_q6_sWOPCSacyEQOavzHeGZCtJpnBwD9=s64",
      "userId": "01835850446278926637"
     },
     "user_tz": -180
    },
    "id": "Diw806hRl1A_",
    "outputId": "c65a73ab-25ae-49d7-d252-8eca3500a059"
   },
   "outputs": [],
   "source": [
    "from sklearn.datasets import make_regression\n",
    "X_m, y_m = make_regression(n_samples=100, n_features=2, noise=20)"
   ]
  },
  {
   "cell_type": "markdown",
   "metadata": {
    "colab_type": "text",
    "id": "otpUMvJZn1kM"
   },
   "source": [
    "### Create a model & fit"
   ]
  },
  {
   "cell_type": "code",
   "execution_count": 218,
   "metadata": {
    "colab": {},
    "colab_type": "code",
    "id": "3CHiKIZZl1K6"
   },
   "outputs": [],
   "source": [
    "model = LinearRegression().fit(X_m, y_m)"
   ]
  },
  {
   "cell_type": "markdown",
   "metadata": {
    "colab_type": "text",
    "id": "kLOWx40on-L0"
   },
   "source": [
    "### Get Results"
   ]
  },
  {
   "cell_type": "code",
   "execution_count": 219,
   "metadata": {
    "colab": {
     "base_uri": "https://localhost:8080/",
     "height": 70
    },
    "colab_type": "code",
    "executionInfo": {
     "elapsed": 910,
     "status": "ok",
     "timestamp": 1600456293410,
     "user": {
      "displayName": "Adem Tekin",
      "photoUrl": "https://lh3.googleusercontent.com/a-/AOh14Gjji3ec_q6_sWOPCSacyEQOavzHeGZCtJpnBwD9=s64",
      "userId": "01835850446278926637"
     },
     "user_tz": -180
    },
    "id": "iBt3pM-hl1S4",
    "outputId": "77ac4fff-59d2-4598-c567-1bcbbf13861f"
   },
   "outputs": [
    {
     "name": "stdout",
     "output_type": "stream",
     "text": [
      "coefficient of determination: 0.9302562331443691\n",
      "intercept: 0.3442332912964745\n",
      "slope: [41.36204422 61.86473586]\n"
     ]
    }
   ],
   "source": [
    "r_sq = model.score(X_m, y_m)\n",
    "print('coefficient of determination:', r_sq)\n",
    "print('intercept:', model.intercept_)\n",
    "print('slope:', model.coef_)\n"
   ]
  },
  {
   "cell_type": "markdown",
   "metadata": {
    "colab_type": "text",
    "id": "TY6mePg5oSBE"
   },
   "source": [
    "### Predict"
   ]
  },
  {
   "cell_type": "code",
   "execution_count": 220,
   "metadata": {
    "colab": {
     "base_uri": "https://localhost:8080/",
     "height": 70
    },
    "colab_type": "code",
    "executionInfo": {
     "elapsed": 1542,
     "status": "ok",
     "timestamp": 1600456327996,
     "user": {
      "displayName": "Adem Tekin",
      "photoUrl": "https://lh3.googleusercontent.com/a-/AOh14Gjji3ec_q6_sWOPCSacyEQOavzHeGZCtJpnBwD9=s64",
      "userId": "01835850446278926637"
     },
     "user_tz": -180
    },
    "id": "6ViFtCWfl1a5",
    "outputId": "27a58f97-7a0f-4896-a3e5-a275700519ef",
    "scrolled": true
   },
   "outputs": [
    {
     "name": "stdout",
     "output_type": "stream",
     "text": [
      "predicted response:\n",
      "[  53.1999056    55.47600683  -55.07314048   56.16078678 -106.56516247\n",
      "  -91.57412541   25.23392871   93.18586385  -15.04773303  -99.91747629\n",
      "   40.04885154    9.24512608   25.26615675   84.14298307  -32.49231846\n",
      "  136.65297771   40.49270183   32.86678274 -158.78523168   31.6378886 ]\n"
     ]
    }
   ],
   "source": [
    "Xm_train, _ = make_regression(n_samples=20, n_features=2, noise=20)\n",
    "\n",
    "ym_pred = model.predict(Xm_train)\n",
    "print('predicted response:', ym_pred, sep='\\n')"
   ]
  },
  {
   "cell_type": "markdown",
   "metadata": {
    "colab_type": "text",
    "id": "0t2bMe0DruXG"
   },
   "source": [
    "## Cost Function"
   ]
  },
  {
   "cell_type": "markdown",
   "metadata": {
    "colab_type": "text",
    "id": "h0d9Gg4Sr_JD"
   },
   "source": [
    "It is a function that measures the performance of a Machine Learning model for given data. Cost Function quantifies the error between predicted values and expected values and presents it in the form of a single real number."
   ]
  },
  {
   "cell_type": "markdown",
   "metadata": {
    "colab_type": "text",
    "id": "3KrPoOTJjDpS"
   },
   "source": [
    "$$MSE = 1/(2m)\\sum_{n=1}^{m} (y_p-y)^{2}$$"
   ]
  },
  {
   "cell_type": "markdown",
   "metadata": {
    "colab_type": "text",
    "id": "b-CqFQ0cmijD"
   },
   "source": [
    "#### Mean Square Error (MSE)"
   ]
  },
  {
   "cell_type": "code",
   "execution_count": 221,
   "metadata": {
    "colab": {},
    "colab_type": "code",
    "id": "Js7FJXSToj86"
   },
   "outputs": [],
   "source": [
    "def mse(predictions, targets):\n",
    "    samples_num = len(predictions)\n",
    "    accumulated_error = 0.0\n",
    "    for prediction, target in zip(predictions, targets):\n",
    "        accumulated_error += (prediction - target)**2\n",
    "       \n",
    "    mae_error = (1.0 / (2*samples_num)) * accumulated_error\n",
    "    \n",
    "    return mae_error"
   ]
  },
  {
   "cell_type": "code",
   "execution_count": 222,
   "metadata": {},
   "outputs": [
    {
     "data": {
      "text/plain": [
       "3846.769763893645"
      ]
     },
     "execution_count": 222,
     "metadata": {},
     "output_type": "execute_result"
    }
   ],
   "source": [
    "mse(y_pred, y)"
   ]
  },
  {
   "cell_type": "code",
   "execution_count": 223,
   "metadata": {},
   "outputs": [],
   "source": [
    "from sklearn.metrics import mean_squared_error"
   ]
  },
  {
   "cell_type": "code",
   "execution_count": 224,
   "metadata": {},
   "outputs": [
    {
     "data": {
      "text/plain": [
       "7693.53952778729"
      ]
     },
     "execution_count": 224,
     "metadata": {},
     "output_type": "execute_result"
    }
   ],
   "source": [
    "mean_squared_error(y, y_pred)"
   ]
  },
  {
   "cell_type": "code",
   "execution_count": null,
   "metadata": {},
   "outputs": [],
   "source": []
  }
 ],
 "metadata": {
  "colab": {
   "collapsed_sections": [],
   "name": "ML Zemin.ipynb",
   "provenance": []
  },
  "kernelspec": {
   "display_name": "Python 3",
   "language": "python",
   "name": "python3"
  },
  "language_info": {
   "codemirror_mode": {
    "name": "ipython",
    "version": 3
   },
   "file_extension": ".py",
   "mimetype": "text/x-python",
   "name": "python",
   "nbconvert_exporter": "python",
   "pygments_lexer": "ipython3",
   "version": "3.8.5"
  }
 },
 "nbformat": 4,
 "nbformat_minor": 1
}
