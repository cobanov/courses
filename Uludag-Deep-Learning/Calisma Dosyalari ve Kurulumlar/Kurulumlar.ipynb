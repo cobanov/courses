{
 "cells": [
  {
   "cell_type": "markdown",
   "metadata": {},
   "source": [
    "# Derin Öğrenme ve Yapay Zeka - Kurulumlar"
   ]
  },
  {
   "cell_type": "markdown",
   "metadata": {},
   "source": [
    "***"
   ]
  },
  {
   "cell_type": "markdown",
   "metadata": {},
   "source": [
    "## Python  ve Tensorflow Kurulumu"
   ]
  },
  {
   "cell_type": "markdown",
   "metadata": {},
   "source": [
    "Arkadaşlar merhaba, öncelikle yapay zeka çalışmalarına başlamamız için bazı paket ve programların kurulumlarını sağlamalıyız, popüler olarak python ve tensorflow üzerinden çalışmalar sürdüğü için kurulumları bu şekilde yapmaya uygun gördüm. Daha kolay bir kurulum ve paket içeriği yüzünden pythonu kendi dağıtımı yerine anaconda dağıtımını kullanacağız, bu bize paketlerin güncellemeleri ve hali hazırda gelen paketler gibi bir çok avantaj sağlayacaktır."
   ]
  },
  {
   "cell_type": "markdown",
   "metadata": {},
   "source": [
    " "
   ]
  },
  {
   "cell_type": "markdown",
   "metadata": {},
   "source": [
    "### Anaconda Kurulumu"
   ]
  },
  {
   "cell_type": "markdown",
   "metadata": {},
   "source": [
    "Anaconda dağıtımını kurmak için iki yöntem kullanabiliriz, adresinden işletim sisteminize uygun versiyonu indirip kurabilirsiniz. "
   ]
  },
  {
   "cell_type": "markdown",
   "metadata": {},
   "source": [
    "* Kurulum dosyası ile [Anaconda Download](https://www.anaconda.com/download/)"
   ]
  },
  {
   "cell_type": "markdown",
   "metadata": {},
   "source": [
    "* Komut Penceresinden\n",
    "<code> conda install -c anaconda python </code>"
   ]
  },
  {
   "cell_type": "markdown",
   "metadata": {},
   "source": [
    "Kurulum aşamasında seçenekler üzerinden ilerlerken **\"add python to your PATH\"** seçeneğini işaretlemeyi unutmuyoruz."
   ]
  },
  {
   "cell_type": "markdown",
   "metadata": {},
   "source": [
    " "
   ]
  },
  {
   "cell_type": "markdown",
   "metadata": {},
   "source": [
    "### Tensorflow Kurulumu"
   ]
  },
  {
   "cell_type": "markdown",
   "metadata": {},
   "source": [
    "Tensorflow kurulumu yaparken iki seçeneceğimiz var, birincisi gücünü işlemciden alarak çalışan CPU kurulumu, diğeri ise ekran kartından güç alarak çalışan GPU kurulumu. GPU, CPU'ya göre çok daha hızlı çalışıyor, ileride göreceğimiz ve modellerimizi eğitirken bu hız işimize çok yaracaktır. Lakin Tensorflow GPU kurulumu için her ekran kartı destekli değil, şuanda sadece NVIDIA kartlarının bazılarına yapabiliyoruz. Öncelikle bu adresten kartınızın uyumlu olup olmadığını kontrol etmeniz gerekiyor, desteklenen kartlardan birine sahipseniz CPU kurulumunu atlayabilirsiniz. "
   ]
  },
  {
   "cell_type": "markdown",
   "metadata": {},
   "source": [
    " "
   ]
  },
  {
   "cell_type": "markdown",
   "metadata": {},
   "source": [
    "#### CPU için kurulum"
   ]
  },
  {
   "cell_type": "markdown",
   "metadata": {},
   "source": [
    "Komut penceresini açarak <code> pip install --upgrade tensorflow </code> yazıyoruz ve kurulum başlıyor. "
   ]
  },
  {
   "cell_type": "markdown",
   "metadata": {},
   "source": [
    "Kurulum tamamlandığında **Kurulumun Testi** bölümünden çalışıp çalışmadığını test etmeyi unutmayın."
   ]
  },
  {
   "cell_type": "markdown",
   "metadata": {},
   "source": [
    " "
   ]
  },
  {
   "cell_type": "markdown",
   "metadata": {},
   "source": [
    "#### GPU için kurulum (Opsiyonel)"
   ]
  },
  {
   "cell_type": "markdown",
   "metadata": {},
   "source": [
    "GPU için kurulum tamamiyle opsiyoneldir fakat hız bakımından çok yararı olacağı için kurulumu destekleyen bir kartınız varsa şiddetle öneriyorum."
   ]
  },
  {
   "cell_type": "markdown",
   "metadata": {},
   "source": [
    "Kurulumlara başlamadan önce kartınızın desteklenip desteklenmediğini [bu linkten](https://developer.nvidia.com/cuda-gpus) kontrol ediyoruz."
   ]
  },
  {
   "cell_type": "markdown",
   "metadata": {},
   "source": [
    "Sonrasında CUDA ve CuDNN paketlerini yüklememiz gerekiyor. [CUDA](https://developer.nvidia.com/cuda-90-download-archive) linkine giderek uygun işletim sisteminiz seçip CUDA 9.0'ı yüklemeniz gerekiyor. Önemli bir husus olarak 9.0 olduğuna dikkat edip kurulum yapın, tensorflow documentation şuan bu yönergeleri gösteriyor, aksi davranışlar çalışmamaya neden olabilir."
   ]
  },
  {
   "cell_type": "markdown",
   "metadata": {},
   "source": [
    "Cuda kurulumu tamamlandıktan sonra kurulan dosyaları **path** üzerine \n",
    "eklememiz gerekiyor. \n",
    "\n",
    "* C:\\Program Files\\NVIDIA GPU Computing Toolkit\\CUDA\\v9.0\\bin \n",
    "* C:\\Program Files\\NVIDIA GPU Computing Toolkit\\CUDA\\v9.0\\libnvvp \n",
    "* C:\\Program Files\\NVIDIA GPU Computing Toolkit\\CUDA\\v9.0\\extras\\CUPTI\\libx64\n"
   ]
  },
  {
   "cell_type": "markdown",
   "metadata": {},
   "source": [
    "Bilgisayar -> Özellikler -> Gelişmiş Sistem Ayarları / Ortam Değişiklikleri -> Path'i seçerek düzenleye tıklıyoruz, yeni diyerek üstteki yolları path'e tek tek ekliyoruz."
   ]
  },
  {
   "cell_type": "markdown",
   "metadata": {},
   "source": [
    "CuDNN kurulumu için [CuDNN](https://developer.nvidia.com/cudnn) linkine giderek, üyelik girişi yapıyoruz ve **CUDNN 7.0.5 for CUDA tool kit 9.0**'ı işletim sisteminize uygun olarak indiriyoruz."
   ]
  },
  {
   "cell_type": "markdown",
   "metadata": {},
   "source": [
    "İndirdiğin dosyayı kolaylık olması açısından C:\\ dizinine atıyoruz, aynı şekilde bunu da path'e eklememiz gerek, aşağıdaki yolu da ekleyip tamam diyoruz.\n",
    "\n",
    "* C:\\cuda\\bin"
   ]
  },
  {
   "cell_type": "markdown",
   "metadata": {},
   "source": [
    "** Ekran kartınızı güncellemeyi unutmayın.**"
   ]
  },
  {
   "cell_type": "markdown",
   "metadata": {},
   "source": [
    " "
   ]
  },
  {
   "cell_type": "markdown",
   "metadata": {},
   "source": [
    "### Kurulum Testi"
   ]
  },
  {
   "cell_type": "markdown",
   "metadata": {},
   "source": [
    " "
   ]
  },
  {
   "cell_type": "markdown",
   "metadata": {},
   "source": [
    "Komut penceresini açarak **python** yazıyoruz."
   ]
  },
  {
   "cell_type": "markdown",
   "metadata": {},
   "source": [
    "<code>import tensorflow as tf\n",
    "hello = tf.constant('Hello, TensorFlow!')\n",
    "sess = tf.Session()\n",
    "print(sess.run(hello))</code>"
   ]
  },
  {
   "cell_type": "markdown",
   "metadata": {},
   "source": [
    "İlk kurulumunuz uzun sürebilir, hata mesajı aldınığızı zannedebilirsiniz. \"Hello, Tensorflow!\" yazısını görmüşseniz her şey tamam demektir."
   ]
  },
  {
   "cell_type": "markdown",
   "metadata": {},
   "source": []
  },
  {
   "cell_type": "markdown",
   "metadata": {},
   "source": [
    "### Keras Kurulumu"
   ]
  },
  {
   "cell_type": "markdown",
   "metadata": {},
   "source": [
    "Anaconda kurulumunu yaptıktan sonra cmd ekranı açılıp"
   ]
  },
  {
   "cell_type": "markdown",
   "metadata": {},
   "source": [
    "`conda install keras`"
   ]
  },
  {
   "cell_type": "markdown",
   "metadata": {},
   "source": [
    "yazarak kurulumu tamamlayabilirsiniz."
   ]
  },
  {
   "cell_type": "code",
   "execution_count": null,
   "metadata": {},
   "outputs": [],
   "source": []
  }
 ],
 "metadata": {
  "kernelspec": {
   "display_name": "Python 3",
   "language": "python",
   "name": "python3"
  },
  "language_info": {
   "codemirror_mode": {
    "name": "ipython",
    "version": 3
   },
   "file_extension": ".py",
   "mimetype": "text/x-python",
   "name": "python",
   "nbconvert_exporter": "python",
   "pygments_lexer": "ipython3",
   "version": "3.6.6"
  }
 },
 "nbformat": 4,
 "nbformat_minor": 2
}
